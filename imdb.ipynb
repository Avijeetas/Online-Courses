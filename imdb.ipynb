{
  "nbformat": 4,
  "nbformat_minor": 0,
  "metadata": {
    "colab": {
      "name": "imdb",
      "provenance": [],
      "authorship_tag": "ABX9TyNDTfL8FFNKPoH5kKaTCewH",
      "include_colab_link": true
    },
    "kernelspec": {
      "name": "python3",
      "display_name": "Python 3"
    }
  },
  "cells": [
    {
      "cell_type": "markdown",
      "metadata": {
        "id": "view-in-github",
        "colab_type": "text"
      },
      "source": [
        "<a href=\"https://colab.research.google.com/github/Avijeetas/Online-Courses/blob/master/imdb.ipynb\" target=\"_parent\"><img src=\"https://colab.research.google.com/assets/colab-badge.svg\" alt=\"Open In Colab\"/></a>"
      ]
    },
    {
      "cell_type": "code",
      "metadata": {
        "id": "bz2IGnFte6pa",
        "colab_type": "code",
        "colab": {}
      },
      "source": [
        "from keras.datasets import imdb"
      ],
      "execution_count": 0,
      "outputs": []
    },
    {
      "cell_type": "code",
      "metadata": {
        "id": "nAKyIYR4fC-9",
        "colab_type": "code",
        "colab": {}
      },
      "source": [
        "(train_data,train_labels),(test_data,test_labels)= imdb.load_data(num_words=10000)"
      ],
      "execution_count": 0,
      "outputs": []
    },
    {
      "cell_type": "code",
      "metadata": {
        "id": "aiF2CiS4fHoW",
        "colab_type": "code",
        "colab": {
          "base_uri": "https://localhost:8080/",
          "height": 71
        },
        "outputId": "a1a54867-e111-4f44-be81-034557fae82c"
      },
      "source": [
        "print('train_data[0]={0}\\ntrain_labels={1}'.format(train_data[0],train_labels[0])) "
      ],
      "execution_count": 23,
      "outputs": [
        {
          "output_type": "stream",
          "text": [
            "train_data[0]=[1, 14, 22, 16, 43, 530, 973, 1622, 1385, 65, 458, 4468, 66, 3941, 4, 173, 36, 256, 5, 25, 100, 43, 838, 112, 50, 670, 2, 9, 35, 480, 284, 5, 150, 4, 172, 112, 167, 2, 336, 385, 39, 4, 172, 4536, 1111, 17, 546, 38, 13, 447, 4, 192, 50, 16, 6, 147, 2025, 19, 14, 22, 4, 1920, 4613, 469, 4, 22, 71, 87, 12, 16, 43, 530, 38, 76, 15, 13, 1247, 4, 22, 17, 515, 17, 12, 16, 626, 18, 2, 5, 62, 386, 12, 8, 316, 8, 106, 5, 4, 2223, 5244, 16, 480, 66, 3785, 33, 4, 130, 12, 16, 38, 619, 5, 25, 124, 51, 36, 135, 48, 25, 1415, 33, 6, 22, 12, 215, 28, 77, 52, 5, 14, 407, 16, 82, 2, 8, 4, 107, 117, 5952, 15, 256, 4, 2, 7, 3766, 5, 723, 36, 71, 43, 530, 476, 26, 400, 317, 46, 7, 4, 2, 1029, 13, 104, 88, 4, 381, 15, 297, 98, 32, 2071, 56, 26, 141, 6, 194, 7486, 18, 4, 226, 22, 21, 134, 476, 26, 480, 5, 144, 30, 5535, 18, 51, 36, 28, 224, 92, 25, 104, 4, 226, 65, 16, 38, 1334, 88, 12, 16, 283, 5, 16, 4472, 113, 103, 32, 15, 16, 5345, 19, 178, 32]\n",
            "train_labels=1\n"
          ],
          "name": "stdout"
        }
      ]
    },
    {
      "cell_type": "code",
      "metadata": {
        "id": "fn3Q1WKDfsCi",
        "colab_type": "code",
        "colab": {}
      },
      "source": [
        "import numpy as np\n",
        "def vectorize_sequences(sequences, dimension=10000):\n",
        "  results=np.zeros((len(sequences),dimension))\n",
        "\n",
        "  for i , sequence in enumerate(sequences):\n",
        "    results[i,sequence]=1\n",
        "  return results\n",
        "\n",
        "x_train=vectorize_sequences(train_data)\n",
        "x_test =vectorize_sequences(test_data)\n",
        "\n"
      ],
      "execution_count": 0,
      "outputs": []
    },
    {
      "cell_type": "code",
      "metadata": {
        "id": "-ew7obByg_4o",
        "colab_type": "code",
        "colab": {
          "base_uri": "https://localhost:8080/",
          "height": 34
        },
        "outputId": "5bb4d978-7e60-4649-c654-8ae117d18e68"
      },
      "source": [
        "x_train[0]"
      ],
      "execution_count": 25,
      "outputs": [
        {
          "output_type": "execute_result",
          "data": {
            "text/plain": [
              "array([0., 1., 1., ..., 0., 0., 0.])"
            ]
          },
          "metadata": {
            "tags": []
          },
          "execution_count": 25
        }
      ]
    },
    {
      "cell_type": "code",
      "metadata": {
        "id": "DMYGP8RMhDox",
        "colab_type": "code",
        "colab": {}
      },
      "source": [
        "y_train=np.asarray(train_labels).astype('float32')\n",
        "y_test =np.asarray(test_labels).astype('float32')"
      ],
      "execution_count": 0,
      "outputs": []
    },
    {
      "cell_type": "code",
      "metadata": {
        "id": "5UyITf0UhWbh",
        "colab_type": "code",
        "colab": {}
      },
      "source": [
        "from keras import models,layers"
      ],
      "execution_count": 0,
      "outputs": []
    },
    {
      "cell_type": "code",
      "metadata": {
        "id": "MnJM5HI3ikJU",
        "colab_type": "code",
        "colab": {}
      },
      "source": [
        "model=models.Sequential()\n",
        "model.add(layers.Dense(16,activation='relu',input_shape=(10000,)))\n",
        "model.add(layers.Dense(16,activation='relu'))\n",
        "model.add(layers.Dense(1,activation='sigmoid'))\n",
        "\n",
        "\n",
        "model.compile(optimizer='rmsprop',\n",
        "              loss='binary_crossentropy',\n",
        "              metrics=['accuracy'])\n"
      ],
      "execution_count": 0,
      "outputs": []
    },
    {
      "cell_type": "code",
      "metadata": {
        "id": "wGmmihB7jalF",
        "colab_type": "code",
        "colab": {
          "base_uri": "https://localhost:8080/",
          "height": 884
        },
        "outputId": "67b17f99-002f-4bbd-8bf5-3a0d8aa85622"
      },
      "source": [
        "x_val= x_train[:10000]\n",
        "partial_x_train=x_train[10000:]\n",
        "\n",
        "y_val= y_train[:10000]\n",
        "partial_y_train=y_train[10000:]\n",
        "\n",
        "\n",
        "\n",
        "hist = model.fit(partial_x_train,\n",
        "                 partial_y_train,\n",
        "                 epochs=25,\n",
        "                 batch_size=512,\n",
        "                 validation_data=(x_val,y_val),verbose=1)\n",
        "\n"
      ],
      "execution_count": 29,
      "outputs": [
        {
          "output_type": "stream",
          "text": [
            "Train on 15000 samples, validate on 10000 samples\n",
            "Epoch 1/25\n",
            "15000/15000 [==============================] - 2s 143us/step - loss: 0.5184 - accuracy: 0.7827 - val_loss: 0.3922 - val_accuracy: 0.8729\n",
            "Epoch 2/25\n",
            "15000/15000 [==============================] - 3s 182us/step - loss: 0.3141 - accuracy: 0.9023 - val_loss: 0.3092 - val_accuracy: 0.8883\n",
            "Epoch 3/25\n",
            "15000/15000 [==============================] - 2s 135us/step - loss: 0.2304 - accuracy: 0.9262 - val_loss: 0.2800 - val_accuracy: 0.8926\n",
            "Epoch 4/25\n",
            "15000/15000 [==============================] - 2s 138us/step - loss: 0.1825 - accuracy: 0.9411 - val_loss: 0.2766 - val_accuracy: 0.8885\n",
            "Epoch 5/25\n",
            "15000/15000 [==============================] - 2s 135us/step - loss: 0.1492 - accuracy: 0.9537 - val_loss: 0.2985 - val_accuracy: 0.8804\n",
            "Epoch 6/25\n",
            "15000/15000 [==============================] - 2s 136us/step - loss: 0.1237 - accuracy: 0.9624 - val_loss: 0.2915 - val_accuracy: 0.8843\n",
            "Epoch 7/25\n",
            "15000/15000 [==============================] - 2s 140us/step - loss: 0.1039 - accuracy: 0.9691 - val_loss: 0.3165 - val_accuracy: 0.8810\n",
            "Epoch 8/25\n",
            "15000/15000 [==============================] - 2s 136us/step - loss: 0.0862 - accuracy: 0.9769 - val_loss: 0.3263 - val_accuracy: 0.8837\n",
            "Epoch 9/25\n",
            "15000/15000 [==============================] - 2s 136us/step - loss: 0.0709 - accuracy: 0.9819 - val_loss: 0.3402 - val_accuracy: 0.8824\n",
            "Epoch 10/25\n",
            "15000/15000 [==============================] - 2s 136us/step - loss: 0.0580 - accuracy: 0.9852 - val_loss: 0.3695 - val_accuracy: 0.8800\n",
            "Epoch 11/25\n",
            "15000/15000 [==============================] - 2s 135us/step - loss: 0.0472 - accuracy: 0.9893 - val_loss: 0.4060 - val_accuracy: 0.8775\n",
            "Epoch 12/25\n",
            "15000/15000 [==============================] - 2s 138us/step - loss: 0.0382 - accuracy: 0.9919 - val_loss: 0.4200 - val_accuracy: 0.8754\n",
            "Epoch 13/25\n",
            "15000/15000 [==============================] - 2s 138us/step - loss: 0.0307 - accuracy: 0.9942 - val_loss: 0.4507 - val_accuracy: 0.8755\n",
            "Epoch 14/25\n",
            "15000/15000 [==============================] - 2s 137us/step - loss: 0.0245 - accuracy: 0.9951 - val_loss: 0.4852 - val_accuracy: 0.8717\n",
            "Epoch 15/25\n",
            "15000/15000 [==============================] - 2s 135us/step - loss: 0.0181 - accuracy: 0.9971 - val_loss: 0.5165 - val_accuracy: 0.8696\n",
            "Epoch 16/25\n",
            "15000/15000 [==============================] - 2s 135us/step - loss: 0.0145 - accuracy: 0.9986 - val_loss: 0.5498 - val_accuracy: 0.8705\n",
            "Epoch 17/25\n",
            "15000/15000 [==============================] - 2s 137us/step - loss: 0.0109 - accuracy: 0.9991 - val_loss: 0.5986 - val_accuracy: 0.8709\n",
            "Epoch 18/25\n",
            "15000/15000 [==============================] - 2s 135us/step - loss: 0.0094 - accuracy: 0.9988 - val_loss: 0.6237 - val_accuracy: 0.8688\n",
            "Epoch 19/25\n",
            "15000/15000 [==============================] - 2s 135us/step - loss: 0.0050 - accuracy: 0.9997 - val_loss: 0.6911 - val_accuracy: 0.8650\n",
            "Epoch 20/25\n",
            "15000/15000 [==============================] - 2s 136us/step - loss: 0.0078 - accuracy: 0.9986 - val_loss: 0.6949 - val_accuracy: 0.8671\n",
            "Epoch 21/25\n",
            "15000/15000 [==============================] - 2s 136us/step - loss: 0.0027 - accuracy: 0.9999 - val_loss: 0.7226 - val_accuracy: 0.8656\n",
            "Epoch 22/25\n",
            "15000/15000 [==============================] - 2s 136us/step - loss: 0.0049 - accuracy: 0.9990 - val_loss: 0.7617 - val_accuracy: 0.8653\n",
            "Epoch 23/25\n",
            "15000/15000 [==============================] - 2s 136us/step - loss: 0.0016 - accuracy: 0.9999 - val_loss: 0.7891 - val_accuracy: 0.8658\n",
            "Epoch 24/25\n",
            "15000/15000 [==============================] - 2s 134us/step - loss: 0.0023 - accuracy: 0.9999 - val_loss: 0.8244 - val_accuracy: 0.8634\n",
            "Epoch 25/25\n",
            "15000/15000 [==============================] - 2s 133us/step - loss: 0.0010 - accuracy: 0.9999 - val_loss: 0.8581 - val_accuracy: 0.8641\n"
          ],
          "name": "stdout"
        }
      ]
    },
    {
      "cell_type": "code",
      "metadata": {
        "id": "agkMPFh_lFYu",
        "colab_type": "code",
        "colab": {
          "base_uri": "https://localhost:8080/",
          "height": 34
        },
        "outputId": "93a553c4-db22-449e-cc30-b38618c9cac2"
      },
      "source": [
        "hist_dict= hist.history\n",
        "hist_dict.keys()"
      ],
      "execution_count": 30,
      "outputs": [
        {
          "output_type": "execute_result",
          "data": {
            "text/plain": [
              "dict_keys(['val_loss', 'val_accuracy', 'loss', 'accuracy'])"
            ]
          },
          "metadata": {
            "tags": []
          },
          "execution_count": 30
        }
      ]
    },
    {
      "cell_type": "markdown",
      "metadata": {
        "id": "6lMOW0Brl4Jc",
        "colab_type": "text"
      },
      "source": [
        "# Plotting the training and validation loss"
      ]
    },
    {
      "cell_type": "code",
      "metadata": {
        "id": "ptZ0ZRrGmD7M",
        "colab_type": "code",
        "colab": {
          "base_uri": "https://localhost:8080/",
          "height": 295
        },
        "outputId": "5abb3a0f-d6b5-46a3-acd0-2bdc5b8ec2eb"
      },
      "source": [
        "import matplotlib.pyplot as plt\n",
        "\n",
        "loss=hist_dict['loss']\n",
        "val_loss=hist_dict['val_loss']\n",
        "\n",
        "\n",
        "epochs=range(1,len(loss)+1)\n",
        "\n",
        "\n",
        "plt.plot(epochs,loss,'bo',label='Training loss')\n",
        "\n",
        "plt.plot(epochs,val_loss,'b',label='Validation loss')\n",
        "\n",
        "\n",
        "plt.title('Training and Validation loss')\n",
        "plt.xlabel('Epochs')\n",
        "plt.ylabel('Loss')\n",
        "plt.legend()\n",
        "\n",
        "plt.show()"
      ],
      "execution_count": 34,
      "outputs": [
        {
          "output_type": "display_data",
          "data": {
            "image/png": "[encoded data removed]",
            "text/plain": [
              "<Figure size 432x288 with 1 Axes>"
            ]
          },
          "metadata": {
            "tags": [],
            "needs_background": "light"
          }
        }
      ]
    },
    {
      "cell_type": "code",
      "metadata": {
        "id": "Jnt_KyNxm0Tc",
        "colab_type": "code",
        "colab": {
          "base_uri": "https://localhost:8080/",
          "height": 295
        },
        "outputId": "0332e148-6d24-443f-aebd-9ca5a89dbcac"
      },
      "source": [
        "plt.clf()\n",
        "acc=hist_dict['accuracy']\n",
        "val_acc=hist_dict['val_accuracy']\n",
        "\n",
        "\n",
        "epochs=range(1,len(acc)+1)\n",
        "\n",
        "\n",
        "plt.plot(epochs,acc,'bo',label='Training Accuracy')\n",
        "\n",
        "plt.plot(epochs,val_acc,'b',label='Validation Accuracy')\n",
        "\n",
        "\n",
        "plt.title('Training and Validation Accuracy')\n",
        "plt.xlabel('Epochs')\n",
        "plt.ylabel('Accuracy')\n",
        "plt.legend()\n",
        "\n",
        "plt.show()"
      ],
      "execution_count": 36,
      "outputs": [
        {
          "output_type": "display_data",
          "data": {
            "image/png": "[encoded data removed]",
            "text/plain": [
              "<Figure size 432x288 with 1 Axes>"
            ]
          },
          "metadata": {
            "tags": [],
            "needs_background": "light"
          }
        }
      ]
    },
    {
      "cell_type": "code",
      "metadata": {
        "id": "QMfdHwTwnqCj",
        "colab_type": "code",
        "colab": {
          "base_uri": "https://localhost:8080/",
          "height": 170
        },
        "outputId": "e6ed1546-c275-4600-bcae-a59bfd1daec5"
      },
      "source": [
        "model=models.Sequential()\n",
        "model.add(layers.Dense(16,activation='relu',input_shape=(10000,)))\n",
        "model.add(layers.Dense(16,activation='relu'))\n",
        "model.add(layers.Dense(1,activation='sigmoid'))\n",
        "\n",
        "\n",
        "model.compile(optimizer='rmsprop',\n",
        "              loss='binary_crossentropy',\n",
        "              metrics=['accuracy'])\n",
        "\n",
        "hist = model.fit(x_train,\n",
        "                 y_train,\n",
        "                 epochs=4,\n",
        "                 batch_size=512)\n",
        "\n",
        "results= model.evaluate(x_test,y_test)\n",
        "\n"
      ],
      "execution_count": 37,
      "outputs": [
        {
          "output_type": "stream",
          "text": [
            "Epoch 1/4\n",
            "25000/25000 [==============================] - 2s 99us/step - loss: 0.4351 - accuracy: 0.8262\n",
            "Epoch 2/4\n",
            "25000/25000 [==============================] - 2s 94us/step - loss: 0.2490 - accuracy: 0.9119\n",
            "Epoch 3/4\n",
            "25000/25000 [==============================] - 2s 96us/step - loss: 0.1952 - accuracy: 0.9293\n",
            "Epoch 4/4\n",
            "25000/25000 [==============================] - 2s 94us/step - loss: 0.1673 - accuracy: 0.9386\n",
            "25000/25000 [==============================] - 1s 59us/step\n"
          ],
          "name": "stdout"
        }
      ]
    },
    {
      "cell_type": "code",
      "metadata": {
        "id": "zT2aHg_5ordn",
        "colab_type": "code",
        "colab": {
          "base_uri": "https://localhost:8080/",
          "height": 34
        },
        "outputId": "62fe333f-285c-4c62-bebe-016dd3cdf5a2"
      },
      "source": [
        "results"
      ],
      "execution_count": 38,
      "outputs": [
        {
          "output_type": "execute_result",
          "data": {
            "text/plain": [
              "[0.3000752127170563, 0.8813599944114685]"
            ]
          },
          "metadata": {
            "tags": []
          },
          "execution_count": 38
        }
      ]
    },
    {
      "cell_type": "code",
      "metadata": {
        "id": "lNzCg1TMoz1B",
        "colab_type": "code",
        "colab": {
          "base_uri": "https://localhost:8080/",
          "height": 136
        },
        "outputId": "c3aaf507-3788-42e3-c578-d220f809d22c"
      },
      "source": [
        "model.predict(x_test)"
      ],
      "execution_count": 39,
      "outputs": [
        {
          "output_type": "execute_result",
          "data": {
            "text/plain": [
              "array([[0.21144596],\n",
              "       [0.9997964 ],\n",
              "       [0.7443646 ],\n",
              "       ...,\n",
              "       [0.09612012],\n",
              "       [0.04190305],\n",
              "       [0.45656762]], dtype=float32)"
            ]
          },
          "metadata": {
            "tags": []
          },
          "execution_count": 39
        }
      ]
    },
    {
      "cell_type": "markdown",
      "metadata": {
        "id": "UJ4jYHsRpTWw",
        "colab_type": "text"
      },
      "source": [
        "#Experiments\n"
      ]
    },
    {
      "cell_type": "code",
      "metadata": {
        "id": "3j_lBbH_pPxl",
        "colab_type": "code",
        "colab": {}
      },
      "source": [
        "# 3 layer model\n",
        "model=models.Sequential()\n",
        "model.add(layers.Dense(32,activation='relu',input_shape=(10000,)))\n",
        "model.add(layers.Dense(32,activation='relu'))\n",
        "#model.add(layers.Dense(32,activation='relu'))\n",
        "model.add(layers.Dense(1,activation='sigmoid'))\n",
        "\n",
        "model.compile(optimizer='rmsprop',\n",
        "              loss='binary_crossentropy',\n",
        "              metrics=['accuracy'])\n",
        "\n",
        "hist=model.fit(partial_x_train,\n",
        "          partial_y_train,\n",
        "          epochs=20,\n",
        "          batch_size=512,\n",
        "          validation_data=(x_train,y_train),verbose=0)\n"
      ],
      "execution_count": 0,
      "outputs": []
    },
    {
      "cell_type": "code",
      "metadata": {
        "id": "Jnh4-Jr1pOty",
        "colab_type": "code",
        "colab": {
          "base_uri": "https://localhost:8080/",
          "height": 34
        },
        "outputId": "953ba342-217f-4632-8d06-5ac96c8e6ea6"
      },
      "source": [
        "hist_dict= hist.history\n",
        "print(hist_dict.keys())\n"
      ],
      "execution_count": 51,
      "outputs": [
        {
          "output_type": "stream",
          "text": [
            "dict_keys(['val_loss', 'val_accuracy', 'loss', 'accuracy'])\n"
          ],
          "name": "stdout"
        }
      ]
    },
    {
      "cell_type": "code",
      "metadata": {
        "id": "TUU7vw0SrTkv",
        "colab_type": "code",
        "colab": {
          "base_uri": "https://localhost:8080/",
          "height": 295
        },
        "outputId": "bebf02f1-85ab-4178-ae6e-3dca61b4e6c0"
      },
      "source": [
        "loss=hist_dict['loss']\n",
        "val_loss=hist_dict['val_loss']\n",
        "\n",
        "\n",
        "epochs=range(1,len(loss)+1)\n",
        "\n",
        "\n",
        "plt.plot(epochs,loss,'bo',label='Training loss')\n",
        "\n",
        "plt.plot(epochs,val_loss,'b',label='Validation loss')\n",
        "\n",
        "\n",
        "plt.title('Training and Validation loss')\n",
        "plt.xlabel('Epochs')\n",
        "plt.ylabel('Loss')\n",
        "plt.legend()\n",
        "\n",
        "plt.show()"
      ],
      "execution_count": 52,
      "outputs": [
        {
          "output_type": "display_data",
          "data": {
            "image/png": "[encoded data removed]",
            "text/plain": [
              "<Figure size 432x288 with 1 Axes>"
            ]
          },
          "metadata": {
            "tags": [],
            "needs_background": "light"
          }
        }
      ]
    },
    {
      "cell_type": "code",
      "metadata": {
        "id": "1JlkbM65sG1n",
        "colab_type": "code",
        "colab": {
          "base_uri": "https://localhost:8080/",
          "height": 295
        },
        "outputId": "952fabdd-fdb3-41b4-af9a-41629fda326f"
      },
      "source": [
        "plt.clf()\n",
        "acc=hist_dict['accuracy']\n",
        "val_acc=hist_dict['val_accuracy']\n",
        "\n",
        "\n",
        "epochs=range(1,len(acc)+1)\n",
        "\n",
        "\n",
        "plt.plot(epochs,acc,'bo',label='Training Accuracy')\n",
        "\n",
        "plt.plot(epochs,val_acc,'b',label='Validation Accuracy')\n",
        "\n",
        "\n",
        "plt.title('Training and Validation Accuracy')\n",
        "plt.xlabel('Epochs')\n",
        "plt.ylabel('Accuracy')\n",
        "plt.legend()\n",
        "\n",
        "plt.show()"
      ],
      "execution_count": 53,
      "outputs": [
        {
          "output_type": "display_data",
          "data": {
            "image/png": "[encoded data removed]",
            "text/plain": [
              "<Figure size 432x288 with 1 Axes>"
            ]
          },
          "metadata": {
            "tags": [],
            "needs_background": "light"
          }
        }
      ]
    },
    {
      "cell_type": "code",
      "metadata": {
        "id": "WXClqjResNVf",
        "colab_type": "code",
        "colab": {
          "base_uri": "https://localhost:8080/",
          "height": 255
        },
        "outputId": "fd2cb090-63d6-4b49-b735-79177ecb171f"
      },
      "source": [
        "model.fit(x_train,\n",
        "          y_train,\n",
        "          epochs=6,\n",
        "          batch_size=512)\n",
        "results= model.evaluate(x_test,y_test)\n",
        "results\n"
      ],
      "execution_count": 54,
      "outputs": [
        {
          "output_type": "stream",
          "text": [
            "Epoch 1/6\n",
            "25000/25000 [==============================] - 2s 98us/step - loss: 0.2228 - accuracy: 0.9475\n",
            "Epoch 2/6\n",
            "25000/25000 [==============================] - 2s 97us/step - loss: 0.1147 - accuracy: 0.9641\n",
            "Epoch 3/6\n",
            "25000/25000 [==============================] - 2s 98us/step - loss: 0.0774 - accuracy: 0.9755\n",
            "Epoch 4/6\n",
            "25000/25000 [==============================] - 2s 96us/step - loss: 0.0521 - accuracy: 0.9842\n",
            "Epoch 5/6\n",
            "25000/25000 [==============================] - 2s 99us/step - loss: 0.0326 - accuracy: 0.9906\n",
            "Epoch 6/6\n",
            "25000/25000 [==============================] - 2s 98us/step - loss: 0.0228 - accuracy: 0.9935\n",
            "25000/25000 [==============================] - 2s 70us/step\n"
          ],
          "name": "stdout"
        },
        {
          "output_type": "execute_result",
          "data": {
            "text/plain": [
              "[0.7092802409529686, 0.8596799969673157]"
            ]
          },
          "metadata": {
            "tags": []
          },
          "execution_count": 54
        }
      ]
    },
    {
      "cell_type": "code",
      "metadata": {
        "id": "OIILzRj9sgfC",
        "colab_type": "code",
        "colab": {
          "base_uri": "https://localhost:8080/",
          "height": 34
        },
        "outputId": "cee681af-3f3e-4099-a418-960c4cce0881"
      },
      "source": [
        "results"
      ],
      "execution_count": 55,
      "outputs": [
        {
          "output_type": "execute_result",
          "data": {
            "text/plain": [
              "[0.7092802409529686, 0.8596799969673157]"
            ]
          },
          "metadata": {
            "tags": []
          },
          "execution_count": 55
        }
      ]
    },
    {
      "cell_type": "code",
      "metadata": {
        "id": "yunoAQJ3soRV",
        "colab_type": "code",
        "colab": {
          "base_uri": "https://localhost:8080/",
          "height": 136
        },
        "outputId": "e6869a45-dbff-4d59-83a4-59e1228db378"
      },
      "source": [
        "model.predict(x_test)"
      ],
      "execution_count": 56,
      "outputs": [
        {
          "output_type": "execute_result",
          "data": {
            "text/plain": [
              "array([[6.6366792e-04],\n",
              "       [1.0000000e+00],\n",
              "       [9.9999255e-01],\n",
              "       ...,\n",
              "       [2.7484894e-03],\n",
              "       [9.9696517e-03],\n",
              "       [9.8156881e-01]], dtype=float32)"
            ]
          },
          "metadata": {
            "tags": []
          },
          "execution_count": 56
        }
      ]
    },
    {
      "cell_type": "code",
      "metadata": {
        "id": "6Ep8pcN6ssfw",
        "colab_type": "code",
        "colab": {}
      },
      "source": [
        ""
      ],
      "execution_count": 0,
      "outputs": []
    }
  ]
}